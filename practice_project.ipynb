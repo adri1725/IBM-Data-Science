{
  "metadata": {
    "kernelspec": {
      "name": "python",
      "display_name": "Python (Pyodide)",
      "language": "python"
    },
    "language_info": {
      "codemirror_mode": {
        "name": "python",
        "version": 3
      },
      "file_extension": ".py",
      "mimetype": "text/x-python",
      "name": "python",
      "nbconvert_exporter": "python",
      "pygments_lexer": "ipython3",
      "version": "3.8"
    },
    "prev_pub_hash": "447f34cd0035de4dba09d5edf5d2fe7b55d61776ea4c8a482c66d40d8e2dc2be"
  },
  "nbformat_minor": 4,
  "nbformat": 4,
  "cells": [
    {
      "cell_type": "markdown",
      "source": "<p style=\"text-align:center\">\n    <a href=\"https://skills.network\" target=\"_blank\">\n    <img src=\"https://cf-courses-data.s3.us.cloud-object-storage.appdomain.cloud/assets/logos/SN_web_lightmode.png\" width=\"300\" alt=\"Skills Network Logo\">\n    </a>\n</p>\n",
      "metadata": {}
    },
    {
      "cell_type": "markdown",
      "source": "# **Practice Project: Insurance Cost Analysis**\n\nEstimated time needed: **75** minutes\n\nIn this project, you have to perform analytics operations on an insurance database that uses the below mentioned parameters.\n\n| Parameter |Description| Content type |\n|---|----|---|\n|age| Age in years| integer |\n|gender| Male or Female|integer (1 or 2)|\n| bmi | Body mass index | float |\n|no_of_children| Number of children | integer|\n|smoker| Whether smoker or not | integer (0 or 1)|\n|region| Which US region - NW, NE, SW, SE | integer (1,2,3 or 4 respectively)| \n|charges| Annual Insurance charges in USD | float|\n\n## Objectives \nIn this project, you will:\n - Load the data as a `pandas` dataframe\n - Clean the data, taking care of the blank entries\n - Run exploratory data analysis (EDA) and identify the attributes that most affect the `charges`\n - Develop single variable and multi variable Linear Regression models for predicting the `charges`\n - Use Ridge regression to refine the performance of Linear regression models. \n \n",
      "metadata": {}
    },
    {
      "cell_type": "markdown",
      "source": "# Setup\n",
      "metadata": {}
    },
    {
      "cell_type": "markdown",
      "source": "For this lab, we will be using the following libraries:\n* `skillsnetwork` to download the data\n*   [`pandas`](https://pandas.pydata.org/?utm_medium=Exinfluencer&utm_source=Exinfluencer&utm_content=000026UJ&utm_term=10006555&utm_id=NA-SkillsNetwork-Channel-SkillsNetworkCoursesIBMML0187ENSkillsNetwork31430127-2021-01-01) for managing the data.\n*   [`numpy`](https://numpy.org/?utm_medium=Exinfluencer&utm_source=Exinfluencer&utm_content=000026UJ&utm_term=10006555&utm_id=NA-SkillsNetwork-Channel-SkillsNetworkCoursesIBMML0187ENSkillsNetwork31430127-2021-01-01) for mathematical operations.\n*   [`sklearn`](https://scikit-learn.org/stable/?utm_medium=Exinfluencer&utm_source=Exinfluencer&utm_content=000026UJ&utm_term=10006555&utm_id=NA-SkillsNetwork-Channel-SkillsNetworkCoursesIBMML0187ENSkillsNetwork31430127-2021-01-01) for machine learning and machine-learning-pipeline related functions.\n*   [`seaborn`](https://seaborn.pydata.org/?utm_medium=Exinfluencer&utm_source=Exinfluencer&utm_content=000026UJ&utm_term=10006555&utm_id=NA-SkillsNetwork-Channel-SkillsNetworkCoursesIBMML0187ENSkillsNetwork31430127-2021-01-01) for visualizing the data.\n*   [`matplotlib`](https://matplotlib.org/?utm_medium=Exinfluencer&utm_source=Exinfluencer&utm_content=000026UJ&utm_term=10006555&utm_id=NA-SkillsNetwork-Channel-SkillsNetworkCoursesIBMML0187ENSkillsNetwork31430127-2021-01-01) for additional plotting tools.\n",
      "metadata": {}
    },
    {
      "cell_type": "markdown",
      "source": "The following required libraries are __not__ pre-installed in the Skills Network Labs environment. __You will need to run the following cell__ to install them:\n",
      "metadata": {}
    },
    {
      "cell_type": "code",
      "source": "import piplite\nawait piplite.install('seaborn')",
      "metadata": {
        "trusted": true
      },
      "outputs": [],
      "execution_count": 1
    },
    {
      "cell_type": "markdown",
      "source": "### Importing Required Libraries\n\n_We recommend you import all required libraries in one place (here):_\n",
      "metadata": {}
    },
    {
      "cell_type": "code",
      "source": "import pandas as pd\nimport matplotlib.pyplot as plt\nimport numpy as np\nimport seaborn as sns\nfrom sklearn.model_selection import train_test_split, cross_val_score, cross_val_predict, GridSearchCV\nfrom sklearn.linear_model import LinearRegression, Ridge\nfrom sklearn.preprocessing import StandardScaler, PolynomialFeatures\nfrom sklearn.metrics import mean_squared_error, r2_score\nfrom sklearn.pipeline import Pipeline",
      "metadata": {
        "trusted": true
      },
      "outputs": [
        {
          "name": "stderr",
          "text": "<ipython-input-2-a1372cd3fb0e>:1: DeprecationWarning: \nPyarrow will become a required dependency of pandas in the next major release of pandas (pandas 3.0),\n(to allow more performant data types, such as the Arrow string type, and better interoperability with other libraries)\nbut was not found to be installed on your system.\nIf this would cause problems for you,\nplease provide us feedback at https://github.com/pandas-dev/pandas/issues/54466\n        \n  import pandas as pd\n",
          "output_type": "stream"
        }
      ],
      "execution_count": 2
    },
    {
      "cell_type": "markdown",
      "source": "<details>\n    <summary>Click here for Solution</summary>\n\n```python\nimport pandas as pd\nimport matplotlib.pyplot as plt\nimport numpy as np\nimport seaborn as sns\nfrom sklearn.pipeline import Pipeline\nfrom sklearn.preprocessing import StandardScaler, PolynomialFeatures\nfrom sklearn.linear_model import LinearRegression, Ridge\nfrom sklearn.metrics import mean_squared_error, r2_score\nfrom sklearn.model_selection import cross_val_score, train_test_split\n```\n\n</details>\n",
      "metadata": {}
    },
    {
      "cell_type": "markdown",
      "source": "### Download the dataset to this lab environment\n\nRun the cell below to load the dataset to this lab environment.\n",
      "metadata": {}
    },
    {
      "cell_type": "code",
      "source": "from pyodide.http import pyfetch\n\nasync def download(url, filename):\n    response = await pyfetch(url)\n    if response.status == 200:\n        with open(filename, \"wb\") as f:\n            f.write(await response.bytes())",
      "metadata": {
        "trusted": true
      },
      "outputs": [],
      "execution_count": 3
    },
    {
      "cell_type": "code",
      "source": "filepath = 'https://cf-courses-data.s3.us.cloud-object-storage.appdomain.cloud/IBMDeveloperSkillsNetwork-DA0101EN-Coursera/medical_insurance_dataset.csv'",
      "metadata": {
        "trusted": true
      },
      "outputs": [],
      "execution_count": 4
    },
    {
      "cell_type": "code",
      "source": "await download(filepath, \"insurance.csv\")\nfile_name=\"insurance.csv\"",
      "metadata": {
        "trusted": true
      },
      "outputs": [],
      "execution_count": 5
    },
    {
      "cell_type": "code",
      "source": "df = pd.read_csv(file_name)",
      "metadata": {
        "trusted": true
      },
      "outputs": [],
      "execution_count": 6
    },
    {
      "cell_type": "markdown",
      "source": "> Note: This version of the lab is working on JupyterLite, which requires the dataset to be downloaded to the interface.While working on the downloaded version of this notebook on their local machines(Jupyter Anaconda), the learners can simply **skip the steps above,** and simply use the URL directly in the `pandas.read_csv()` function. You can uncomment and run the statements in the cell below.\n",
      "metadata": {}
    },
    {
      "cell_type": "code",
      "source": "#filepath = 'https://cf-courses-data.s3.us.cloud-object-storage.appdomain.cloud/IBMDeveloperSkillsNetwork-DA0101EN-Coursera/medical_insurance_dataset.csv'\ndf = pd.read_csv(file_name, header=None)",
      "metadata": {
        "trusted": true
      },
      "outputs": [],
      "execution_count": 10
    },
    {
      "cell_type": "markdown",
      "source": "# Task 1 : Import the dataset\n\nImport the dataset into a `pandas` dataframe. Note that there are currently no headers in the CSV file. \n\nPrint the first 10 rows of the dataframe to confirm successful loading.\n",
      "metadata": {}
    },
    {
      "cell_type": "code",
      "source": "df.head(10)",
      "metadata": {
        "trusted": true
      },
      "outputs": [
        {
          "execution_count": 11,
          "output_type": "execute_result",
          "data": {
            "text/plain": "    0  1       2  3  4  5            6\n0  19  1  27.900  0  1  3  16884.92400\n1  18  2  33.770  1  0  4   1725.55230\n2  28  2  33.000  3  0  4   4449.46200\n3  33  2  22.705  0  0  1  21984.47061\n4  32  2  28.880  0  0  1   3866.85520\n5  31  1  25.740  0  ?  4   3756.62160\n6  46  1  33.440  1  0  4   8240.58960\n7  37  1  27.740  3  0  1   7281.50560\n8  37  2  29.830  2  0  2   6406.41070\n9  60  1  25.840  0  0  1  28923.13692",
            "text/html": "<div>\n<style scoped>\n    .dataframe tbody tr th:only-of-type {\n        vertical-align: middle;\n    }\n\n    .dataframe tbody tr th {\n        vertical-align: top;\n    }\n\n    .dataframe thead th {\n        text-align: right;\n    }\n</style>\n<table border=\"1\" class=\"dataframe\">\n  <thead>\n    <tr style=\"text-align: right;\">\n      <th></th>\n      <th>0</th>\n      <th>1</th>\n      <th>2</th>\n      <th>3</th>\n      <th>4</th>\n      <th>5</th>\n      <th>6</th>\n    </tr>\n  </thead>\n  <tbody>\n    <tr>\n      <th>0</th>\n      <td>19</td>\n      <td>1</td>\n      <td>27.900</td>\n      <td>0</td>\n      <td>1</td>\n      <td>3</td>\n      <td>16884.92400</td>\n    </tr>\n    <tr>\n      <th>1</th>\n      <td>18</td>\n      <td>2</td>\n      <td>33.770</td>\n      <td>1</td>\n      <td>0</td>\n      <td>4</td>\n      <td>1725.55230</td>\n    </tr>\n    <tr>\n      <th>2</th>\n      <td>28</td>\n      <td>2</td>\n      <td>33.000</td>\n      <td>3</td>\n      <td>0</td>\n      <td>4</td>\n      <td>4449.46200</td>\n    </tr>\n    <tr>\n      <th>3</th>\n      <td>33</td>\n      <td>2</td>\n      <td>22.705</td>\n      <td>0</td>\n      <td>0</td>\n      <td>1</td>\n      <td>21984.47061</td>\n    </tr>\n    <tr>\n      <th>4</th>\n      <td>32</td>\n      <td>2</td>\n      <td>28.880</td>\n      <td>0</td>\n      <td>0</td>\n      <td>1</td>\n      <td>3866.85520</td>\n    </tr>\n    <tr>\n      <th>5</th>\n      <td>31</td>\n      <td>1</td>\n      <td>25.740</td>\n      <td>0</td>\n      <td>?</td>\n      <td>4</td>\n      <td>3756.62160</td>\n    </tr>\n    <tr>\n      <th>6</th>\n      <td>46</td>\n      <td>1</td>\n      <td>33.440</td>\n      <td>1</td>\n      <td>0</td>\n      <td>4</td>\n      <td>8240.58960</td>\n    </tr>\n    <tr>\n      <th>7</th>\n      <td>37</td>\n      <td>1</td>\n      <td>27.740</td>\n      <td>3</td>\n      <td>0</td>\n      <td>1</td>\n      <td>7281.50560</td>\n    </tr>\n    <tr>\n      <th>8</th>\n      <td>37</td>\n      <td>2</td>\n      <td>29.830</td>\n      <td>2</td>\n      <td>0</td>\n      <td>2</td>\n      <td>6406.41070</td>\n    </tr>\n    <tr>\n      <th>9</th>\n      <td>60</td>\n      <td>1</td>\n      <td>25.840</td>\n      <td>0</td>\n      <td>0</td>\n      <td>1</td>\n      <td>28923.13692</td>\n    </tr>\n  </tbody>\n</table>\n</div>"
          },
          "metadata": {}
        }
      ],
      "execution_count": 11
    },
    {
      "cell_type": "markdown",
      "source": "<details>\n    <summary>Click here for Solution</summary>\n\n```python\ndf = pd.read_csv(file_name, header=None)\nprint(df.head(10))\n```\n\n</details>\n",
      "metadata": {}
    },
    {
      "cell_type": "markdown",
      "source": "Add the headers to the dataframe, as mentioned in the project scenario. \n",
      "metadata": {}
    },
    {
      "cell_type": "code",
      "source": "df.columns = [\"age\", \"gender\", \"bmi\", \"no_of_children\", \"smoker\", \"region\", \"charges\"]",
      "metadata": {
        "trusted": true
      },
      "outputs": [],
      "execution_count": 12
    },
    {
      "cell_type": "markdown",
      "source": "<details>\n    <summary>Click here for Solution</summary>\n\n```python\nheaders = [\"age\", \"gender\", \"bmi\", \"no_of_children\", \"smoker\", \"region\", \"charges\"]\ndf.columns = headers\n```\n\n</details>\n",
      "metadata": {}
    },
    {
      "cell_type": "markdown",
      "source": "Now, replace the '?' entries with 'NaN' values.\n",
      "metadata": {}
    },
    {
      "cell_type": "code",
      "source": "df.replace('?', np.nan, inplace=True)",
      "metadata": {
        "trusted": true
      },
      "outputs": [],
      "execution_count": 13
    },
    {
      "cell_type": "markdown",
      "source": "<details>\n    <summary>Click here for Solution</summary>\n\n```python\ndf.replace('?', np.nan, inplace = True)\n```\n\n</details>\n",
      "metadata": {}
    },
    {
      "cell_type": "markdown",
      "source": "# Task 2 : Data Wrangling\n",
      "metadata": {}
    },
    {
      "cell_type": "markdown",
      "source": "Use `dataframe.info()` to identify the columns that have some 'Null' (or NaN) information.\n",
      "metadata": {}
    },
    {
      "cell_type": "code",
      "source": "df.info() #age y smoker",
      "metadata": {
        "trusted": true
      },
      "outputs": [
        {
          "name": "stdout",
          "text": "<class 'pandas.core.frame.DataFrame'>\nRangeIndex: 2772 entries, 0 to 2771\nData columns (total 7 columns):\n #   Column          Non-Null Count  Dtype  \n---  ------          --------------  -----  \n 0   age             2768 non-null   object \n 1   gender          2772 non-null   int64  \n 2   bmi             2772 non-null   float64\n 3   no_of_children  2772 non-null   int64  \n 4   smoker          2765 non-null   object \n 5   region          2772 non-null   int64  \n 6   charges         2772 non-null   float64\ndtypes: float64(2), int64(3), object(2)\nmemory usage: 130.0+ KB\n",
          "output_type": "stream"
        }
      ],
      "execution_count": 14
    },
    {
      "cell_type": "markdown",
      "source": "<details>\n    <summary>Click here for Solution</summary>\n\n```python\nprint(df.info())\n```\n\n</details>\n",
      "metadata": {}
    },
    {
      "cell_type": "markdown",
      "source": "Handle missing data:\n\n- For continuous attributes (e.g., age), replace missing values with the mean.\n- For categorical attributes (e.g., smoker), replace missing values with the most frequent value.\n- Update the data types of the respective columns.\n- Verify the update using `df.info()`.\n",
      "metadata": {}
    },
    {
      "cell_type": "code",
      "source": "mean = df[\"age\"].astype('float').mean(axis=0)\ndf[\"age\"].replace(np.nan, mean, inplace=True)\nMCV = df[\"smoker\"].value_counts().idxmax()\ndf[\"smoker\"].replace(np.nan, MCV, inplace=True)\nprint(MCV)\ndf[[\"age\",\"smoker\"]] = df[[\"age\",\"smoker\"]].astype(\"int\")\ndf.info()",
      "metadata": {
        "trusted": true
      },
      "outputs": [
        {
          "name": "stderr",
          "text": "<ipython-input-21-03a42c14a5cc>:2: FutureWarning: A value is trying to be set on a copy of a DataFrame or Series through chained assignment using an inplace method.\nThe behavior will change in pandas 3.0. This inplace method will never work because the intermediate object on which we are setting values always behaves as a copy.\n\nFor example, when doing 'df[col].method(value, inplace=True)', try using 'df.method({col: value}, inplace=True)' or df[col] = df[col].method(value) instead, to perform the operation inplace on the original object.\n\n\n  df[\"age\"].replace(np.nan, mean, inplace=True)\n<ipython-input-21-03a42c14a5cc>:4: FutureWarning: A value is trying to be set on a copy of a DataFrame or Series through chained assignment using an inplace method.\nThe behavior will change in pandas 3.0. This inplace method will never work because the intermediate object on which we are setting values always behaves as a copy.\n\nFor example, when doing 'df[col].method(value, inplace=True)', try using 'df.method({col: value}, inplace=True)' or df[col] = df[col].method(value) instead, to perform the operation inplace on the original object.\n\n\n  df[\"smoker\"].replace(np.nan, MCV, inplace=True)\n",
          "output_type": "stream"
        },
        {
          "name": "stdout",
          "text": "0\n<class 'pandas.core.frame.DataFrame'>\nRangeIndex: 2772 entries, 0 to 2771\nData columns (total 7 columns):\n #   Column          Non-Null Count  Dtype  \n---  ------          --------------  -----  \n 0   age             2772 non-null   int32  \n 1   gender          2772 non-null   int64  \n 2   bmi             2772 non-null   float64\n 3   no_of_children  2772 non-null   int64  \n 4   smoker          2772 non-null   int32  \n 5   region          2772 non-null   int64  \n 6   charges         2772 non-null   float64\ndtypes: float64(2), int32(2), int64(3)\nmemory usage: 130.0 KB\n",
          "output_type": "stream"
        }
      ],
      "execution_count": 21
    },
    {
      "cell_type": "markdown",
      "source": "<details>\n    <summary>Click here for Solution</summary>\n\n```python\n# smoker is a categorical attribute, replace with most frequent entry\nis_smoker = df['smoker'].value_counts().idxmax()\ndf[\"smoker\"].replace(np.nan, is_smoker, inplace=True)\n\n# age is a continuous variable, replace with mean age\nmean_age = df['age'].astype('float').mean(axis=0)\ndf[\"age\"].replace(np.nan, mean_age, inplace=True)\n\n# Update data types\ndf[[\"age\",\"smoker\"]] = df[[\"age\",\"smoker\"]].astype(\"int\")\n\nprint(df.info())\n```\n\n</details>\n",
      "metadata": {}
    },
    {
      "cell_type": "markdown",
      "source": "Also note, that the `charges` column has values which are more than 2 decimal places long. Update the `charges` column such that all values are rounded to nearest 2 decimal places. Verify conversion by printing the first 5 values of the updated dataframe.\n",
      "metadata": {}
    },
    {
      "cell_type": "code",
      "source": "df['charges'] = np.round(df['charges'],2)\ndf.head(5)",
      "metadata": {
        "trusted": true
      },
      "outputs": [
        {
          "execution_count": 22,
          "output_type": "execute_result",
          "data": {
            "text/plain": "   age  gender     bmi  no_of_children  smoker  region   charges\n0   19       1  27.900               0       1       3  16884.92\n1   18       2  33.770               1       0       4   1725.55\n2   28       2  33.000               3       0       4   4449.46\n3   33       2  22.705               0       0       1  21984.47\n4   32       2  28.880               0       0       1   3866.86",
            "text/html": "<div>\n<style scoped>\n    .dataframe tbody tr th:only-of-type {\n        vertical-align: middle;\n    }\n\n    .dataframe tbody tr th {\n        vertical-align: top;\n    }\n\n    .dataframe thead th {\n        text-align: right;\n    }\n</style>\n<table border=\"1\" class=\"dataframe\">\n  <thead>\n    <tr style=\"text-align: right;\">\n      <th></th>\n      <th>age</th>\n      <th>gender</th>\n      <th>bmi</th>\n      <th>no_of_children</th>\n      <th>smoker</th>\n      <th>region</th>\n      <th>charges</th>\n    </tr>\n  </thead>\n  <tbody>\n    <tr>\n      <th>0</th>\n      <td>19</td>\n      <td>1</td>\n      <td>27.900</td>\n      <td>0</td>\n      <td>1</td>\n      <td>3</td>\n      <td>16884.92</td>\n    </tr>\n    <tr>\n      <th>1</th>\n      <td>18</td>\n      <td>2</td>\n      <td>33.770</td>\n      <td>1</td>\n      <td>0</td>\n      <td>4</td>\n      <td>1725.55</td>\n    </tr>\n    <tr>\n      <th>2</th>\n      <td>28</td>\n      <td>2</td>\n      <td>33.000</td>\n      <td>3</td>\n      <td>0</td>\n      <td>4</td>\n      <td>4449.46</td>\n    </tr>\n    <tr>\n      <th>3</th>\n      <td>33</td>\n      <td>2</td>\n      <td>22.705</td>\n      <td>0</td>\n      <td>0</td>\n      <td>1</td>\n      <td>21984.47</td>\n    </tr>\n    <tr>\n      <th>4</th>\n      <td>32</td>\n      <td>2</td>\n      <td>28.880</td>\n      <td>0</td>\n      <td>0</td>\n      <td>1</td>\n      <td>3866.86</td>\n    </tr>\n  </tbody>\n</table>\n</div>"
          },
          "metadata": {}
        }
      ],
      "execution_count": 22
    },
    {
      "cell_type": "markdown",
      "source": "<details>\n    <summary>Click here for Solution</summary>\n\n```python\ndf[[\"charges\"]] = np.round(df[[\"charges\"]],2)\nprint(df.head())\n```\n</details>\n",
      "metadata": {}
    },
    {
      "cell_type": "markdown",
      "source": "# Task 3 : Exploratory Data Analysis (EDA)\n\nImplement the regression plot for `charges` with respect to `bmi`. \n",
      "metadata": {}
    },
    {
      "cell_type": "code",
      "source": "sns.regplot(x = df[\"bmi\"], y = df[\"charges\"], scatter_kws={'s': 5})",
      "metadata": {
        "trusted": true
      },
      "outputs": [
        {
          "execution_count": 29,
          "output_type": "execute_result",
          "data": {
            "text/plain": "<AxesSubplot:xlabel='bmi', ylabel='charges'>"
          },
          "metadata": {}
        },
        {
          "output_type": "display_data",
          "data": {
            "text/plain": "<Figure size 640x480 with 1 Axes>",
            "image/png": "[encoded data removed]"
          },
          "metadata": {}
        }
      ],
      "execution_count": 29
    },
    {
      "cell_type": "markdown",
      "source": "<details>\n    <summary>Click here for Solution</summary>\n\n```python\nsns.regplot(x=\"bmi\", y=\"charges\", data=df, line_kws={\"color\": \"red\"})\nplt.ylim(0,)\n```\n</details>\n",
      "metadata": {}
    },
    {
      "cell_type": "markdown",
      "source": "Implement the box plot for `charges` with respect to `smoker`.\n",
      "metadata": {}
    },
    {
      "cell_type": "code",
      "source": "sns.boxplot(x=df[\"smoker\"], y=df[\"charges\"])",
      "metadata": {
        "trusted": true
      },
      "outputs": [
        {
          "execution_count": 30,
          "output_type": "execute_result",
          "data": {
            "text/plain": "<AxesSubplot:xlabel='smoker', ylabel='charges'>"
          },
          "metadata": {}
        },
        {
          "output_type": "display_data",
          "data": {
            "text/plain": "<Figure size 640x480 with 1 Axes>",
            "image/png": "[encoded data removed]"
          },
          "metadata": {}
        }
      ],
      "execution_count": 30
    },
    {
      "cell_type": "markdown",
      "source": "<details>\n    <summary>Click here for Solution</summary>\n\n```python\nsns.boxplot(x=\"smoker\", y=\"charges\", data=df)\n```\n</details>\n",
      "metadata": {}
    },
    {
      "cell_type": "markdown",
      "source": "Print the correlation matrix for the dataset.\n",
      "metadata": {}
    },
    {
      "cell_type": "code",
      "source": "df.corr()",
      "metadata": {
        "trusted": true
      },
      "outputs": [
        {
          "execution_count": 15,
          "output_type": "execute_result",
          "data": {
            "text/plain": "                     age    gender       bmi  no_of_children    smoker  \\\nage             1.000000 -0.026059  0.113068        0.037631 -0.023661   \ngender         -0.026059  1.000000  0.042924        0.016020  0.082256   \nbmi             0.113068  0.042924  1.000000       -0.001492  0.010524   \nno_of_children  0.037631  0.016020 -0.001492        1.000000  0.006263   \nsmoker         -0.023661  0.082256  0.010524        0.006263  1.000000   \nregion         -0.007180  0.022213  0.271119       -0.025717  0.053860   \ncharges         0.298694  0.062837  0.199846        0.066442  0.789545   \n\n                  region   charges  \nage            -0.007180  0.298694  \ngender          0.022213  0.062837  \nbmi             0.271119  0.199846  \nno_of_children -0.025717  0.066442  \nsmoker          0.053860  0.789545  \nregion          1.000000  0.054058  \ncharges         0.054058  1.000000  ",
            "text/html": "<div>\n<style scoped>\n    .dataframe tbody tr th:only-of-type {\n        vertical-align: middle;\n    }\n\n    .dataframe tbody tr th {\n        vertical-align: top;\n    }\n\n    .dataframe thead th {\n        text-align: right;\n    }\n</style>\n<table border=\"1\" class=\"dataframe\">\n  <thead>\n    <tr style=\"text-align: right;\">\n      <th></th>\n      <th>age</th>\n      <th>gender</th>\n      <th>bmi</th>\n      <th>no_of_children</th>\n      <th>smoker</th>\n      <th>region</th>\n      <th>charges</th>\n    </tr>\n  </thead>\n  <tbody>\n    <tr>\n      <th>age</th>\n      <td>1.000000</td>\n      <td>-0.026059</td>\n      <td>0.113068</td>\n      <td>0.037631</td>\n      <td>-0.023661</td>\n      <td>-0.007180</td>\n      <td>0.298694</td>\n    </tr>\n    <tr>\n      <th>gender</th>\n      <td>-0.026059</td>\n      <td>1.000000</td>\n      <td>0.042924</td>\n      <td>0.016020</td>\n      <td>0.082256</td>\n      <td>0.022213</td>\n      <td>0.062837</td>\n    </tr>\n    <tr>\n      <th>bmi</th>\n      <td>0.113068</td>\n      <td>0.042924</td>\n      <td>1.000000</td>\n      <td>-0.001492</td>\n      <td>0.010524</td>\n      <td>0.271119</td>\n      <td>0.199846</td>\n    </tr>\n    <tr>\n      <th>no_of_children</th>\n      <td>0.037631</td>\n      <td>0.016020</td>\n      <td>-0.001492</td>\n      <td>1.000000</td>\n      <td>0.006263</td>\n      <td>-0.025717</td>\n      <td>0.066442</td>\n    </tr>\n    <tr>\n      <th>smoker</th>\n      <td>-0.023661</td>\n      <td>0.082256</td>\n      <td>0.010524</td>\n      <td>0.006263</td>\n      <td>1.000000</td>\n      <td>0.053860</td>\n      <td>0.789545</td>\n    </tr>\n    <tr>\n      <th>region</th>\n      <td>-0.007180</td>\n      <td>0.022213</td>\n      <td>0.271119</td>\n      <td>-0.025717</td>\n      <td>0.053860</td>\n      <td>1.000000</td>\n      <td>0.054058</td>\n    </tr>\n    <tr>\n      <th>charges</th>\n      <td>0.298694</td>\n      <td>0.062837</td>\n      <td>0.199846</td>\n      <td>0.066442</td>\n      <td>0.789545</td>\n      <td>0.054058</td>\n      <td>1.000000</td>\n    </tr>\n  </tbody>\n</table>\n</div>"
          },
          "metadata": {}
        }
      ],
      "execution_count": 15
    },
    {
      "cell_type": "markdown",
      "source": "<details>\n    <summary>Click here for Solution</summary>\n\n```python\nprint(df.corr())\n```\n</details>\n",
      "metadata": {}
    },
    {
      "cell_type": "markdown",
      "source": "# Task 4 : Model Development\n\nFit a linear regression model that may be used to predict the `charges` value, just by using the `smoker` attribute of the dataset. Print the $ R^2 $ score of this model.\n",
      "metadata": {}
    },
    {
      "cell_type": "code",
      "source": "lr = LinearRegression()\nX = df[[\"smoker\"]]\nY = df['charges']\nlr.fit(X,Y)\nlr.score(X,Y)",
      "metadata": {
        "trusted": true
      },
      "outputs": [
        {
          "execution_count": 34,
          "output_type": "execute_result",
          "data": {
            "text/plain": "0.6221791733924185"
          },
          "metadata": {}
        }
      ],
      "execution_count": 34
    },
    {
      "cell_type": "markdown",
      "source": "<details>\n    <summary>Click here for Solution</summary>\n\n```python\nX = df[['smoker']]\nY = df['charges']\nlm = LinearRegression()\nlm.fit(X,Y)\nprint(lm.score(X, Y))\n```\n</details>\n",
      "metadata": {}
    },
    {
      "cell_type": "markdown",
      "source": "Fit a linear regression model that may be used to predict the `charges` value, just by using all other attributes of the dataset. Print the $ R^2 $ score of this model. You should see an improvement in the performance.\n",
      "metadata": {}
    },
    {
      "cell_type": "code",
      "source": "lr2 = LinearRegression()\nX = df.drop(\"charges\", axis=1)\nY = df['charges']\nlr2.fit(X,Y)\nlr2.score(X,Y)",
      "metadata": {
        "trusted": true
      },
      "outputs": [
        {
          "execution_count": 35,
          "output_type": "execute_result",
          "data": {
            "text/plain": "0.7504083820289634"
          },
          "metadata": {}
        }
      ],
      "execution_count": 35
    },
    {
      "cell_type": "markdown",
      "source": "<details>\n    <summary>Click here for Solution</summary>\n\n```python\n# definition of Y and lm remain same as used in last cell. \nZ = df[[\"age\", \"gender\", \"bmi\", \"no_of_children\", \"smoker\", \"region\"]]\nlm.fit(Z,Y)\nprint(lm.score(Z, Y))\n```\n</details>\n",
      "metadata": {}
    },
    {
      "cell_type": "markdown",
      "source": "Create a training pipeline that uses `StandardScaler()`, `PolynomialFeatures()` and `LinearRegression()` to create a model that can predict the `charges` value using all the other attributes of the dataset. There should be even further improvement in the performance.\n",
      "metadata": {}
    },
    {
      "cell_type": "code",
      "source": "Input=[('scale',StandardScaler()), ('polynomial', PolynomialFeatures(include_bias=False)), ('model',LinearRegression())]\npipe = Pipeline(Input)\nX = X.astype(float)\npipe.fit(X,Y)\nypipe=pipe.predict(X)\nR2_score = r2_score(Y, ypipe)\nprint(R2_score)",
      "metadata": {
        "trusted": true
      },
      "outputs": [
        {
          "name": "stdout",
          "text": "0.8451876102882967\n",
          "output_type": "stream"
        }
      ],
      "execution_count": 36
    },
    {
      "cell_type": "markdown",
      "source": "<details>\n    <summary>Click here for Solution</summary>\n\n```python\n# Y and Z use the same values as defined in previous cells \nInput=[('scale',StandardScaler()), ('polynomial', PolynomialFeatures(include_bias=False)), ('model', LinearRegression())]\npipe=Pipeline(Input)\nZ = Z.astype(float)\npipe.fit(Z,Y)\nypipe=pipe.predict(Z)\nprint(r2_score(Y,ypipe))\n```\n</details>\n",
      "metadata": {}
    },
    {
      "cell_type": "markdown",
      "source": "# Task 5 : Model Refinement\n\nSplit the data into training and testing subsets, assuming that 20% of the data will be reserved for testing.\n",
      "metadata": {}
    },
    {
      "cell_type": "code",
      "source": "x_data = df.drop(\"charges\", axis=1)\ny_data = df['charges']\nx_train, x_test, y_train, y_test = train_test_split(x_data, y_data, test_size=0.2, random_state=1)",
      "metadata": {
        "trusted": true
      },
      "outputs": [],
      "execution_count": 38
    },
    {
      "cell_type": "markdown",
      "source": "<details>\n    <summary>Click here for Solution</summary>\n\n```python\n# Z and Y hold same values as in previous cells\nx_train, x_test, y_train, y_test = train_test_split(Z, Y, test_size=0.2, random_state=1)\n```\n</details>\n",
      "metadata": {}
    },
    {
      "cell_type": "markdown",
      "source": "Initialize a Ridge regressor that used hyperparameter $ \\alpha = 0.1 $. Fit the model using training data data subset. Print the $ R^2 $ score for the testing data.\n",
      "metadata": {}
    },
    {
      "cell_type": "code",
      "source": "RidgeModel=Ridge(alpha=0.1)\nRidgeModel.fit(x_train, y_train)\nyhat = RidgeModel.predict(x_test)\nR2_score_RR = r2_score(y_test, yhat)\nprint(R2_score_RR)",
      "metadata": {
        "trusted": true
      },
      "outputs": [
        {
          "name": "stdout",
          "text": "0.6760807731582404\n",
          "output_type": "stream"
        }
      ],
      "execution_count": 41
    },
    {
      "cell_type": "markdown",
      "source": "<details>\n    <summary>Click here for Solution</summary>\n\n```python\n# x_train, x_test, y_train, y_test hold same values as in previous cells\nRidgeModel=Ridge(alpha=0.1)\nRidgeModel.fit(x_train, y_train)\nyhat = RidgeModel.predict(x_test)\nprint(r2_score(y_test,yhat))\n```\n</details>\n",
      "metadata": {}
    },
    {
      "cell_type": "markdown",
      "source": "Apply polynomial transformation to the training parameters with degree=2. Use this transformed feature set to fit the same regression model, as above, using the training subset. Print the $ R^2 $ score for the testing subset.\n",
      "metadata": {}
    },
    {
      "cell_type": "code",
      "source": "pr=PolynomialFeatures(degree=2)\nx_train_pr=pr.fit_transform(x_train)\nx_test_pr=pr.fit_transform(x_test)\nRidgeModel2=Ridge(alpha=0.1)\nRidgeModel2.fit(x_train_pr, y_train)\nyhat_pr = RidgeModel2.predict(x_test_pr)\nR2_score_RRpr = r2_score(y_test, yhat_pr)\nprint(R2_score_RRpr)",
      "metadata": {
        "trusted": true
      },
      "outputs": [
        {
          "name": "stdout",
          "text": "0.7835631107608061\n",
          "output_type": "stream"
        }
      ],
      "execution_count": 44
    },
    {
      "cell_type": "markdown",
      "source": "<details>\n    <summary>Click here for Solution</summary>\n\n```python\n# x_train, x_test, y_train, y_test hold same values as in previous cells\npr = PolynomialFeatures(degree=2)\nx_train_pr = pr.fit_transform(x_train)\nx_test_pr = pr.transform(x_test)\nRidgeModel.fit(x_train_pr, y_train)\ny_hat = RidgeModel.predict(x_test_pr)\nprint(r2_score(y_test,y_hat))\n```\n</details>\n",
      "metadata": {}
    },
    {
      "cell_type": "markdown",
      "source": "# Congratulations! You have completed this project\n",
      "metadata": {}
    },
    {
      "cell_type": "markdown",
      "source": "## Authors\n",
      "metadata": {}
    },
    {
      "cell_type": "markdown",
      "source": "[Abhishek Gagneja](https://www.coursera.org/instructor/~129186572)\n\n[Vicky Kuo](https://author.skills.network/instructors/vicky_kuo)\n",
      "metadata": {}
    },
    {
      "cell_type": "markdown",
      "source": "<h3> Copyright © 2023 IBM Corporation. All rights reserved. </h3>\n",
      "metadata": {}
    },
    {
      "cell_type": "markdown",
      "source": "<!--## Change Log\n",
      "metadata": {}
    },
    {
      "cell_type": "markdown",
      "source": "<!--|Date (YYYY-MM-DD)|Version|Changed By|Change Description|\n|-|-|-|-|\n|2023-09-16|0.1|Abhishek Gagneja|Initial Version Created|\n|2023-09-19|0.2|Vicky Kuo|Reviewed and Revised|\n--!>\n",
      "metadata": {}
    }
  ]
}